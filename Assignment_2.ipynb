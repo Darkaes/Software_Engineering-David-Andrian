{
  "nbformat": 4,
  "nbformat_minor": 0,
  "metadata": {
    "colab": {
      "name": "Assignment 2.ipynb",
      "provenance": [],
      "authorship_tag": "ABX9TyPZ95tqQ417e7WXa+FJxuf1",
      "include_colab_link": true
    },
    "kernelspec": {
      "name": "python3",
      "display_name": "Python 3"
    },
    "language_info": {
      "name": "python"
    }
  },
  "cells": [
    {
      "cell_type": "markdown",
      "metadata": {
        "id": "view-in-github",
        "colab_type": "text"
      },
      "source": [
        "<a href=\"https://colab.research.google.com/github/Darkaes/Software_Engineering-David-Andrian/blob/main/Assignment_2.ipynb\" target=\"_parent\"><img src=\"https://colab.research.google.com/assets/colab-badge.svg\" alt=\"Open In Colab\"/></a>"
      ]
    },
    {
      "cell_type": "code",
      "metadata": {
        "colab": {
          "base_uri": "https://localhost:8080/"
        },
        "id": "hLT3QiR3zQzK",
        "outputId": "433f9666-5122-4ec5-d534-5612de2b8df8"
      },
      "source": [
        "a = 991\n",
        "b = 999\n",
        "s =  \"This is the biggest number palindrome from 3 digit times 3 digit nnn*mmm = \"\n",
        "c = a*b\n",
        "\n",
        "print(s + str(c))"
      ],
      "execution_count": 12,
      "outputs": [
        {
          "output_type": "stream",
          "name": "stdout",
          "text": [
            "This is the biggest number palindrome from 3 digit times 3 digit nnn*mmm = 990009\n"
          ]
        }
      ]
    }
  ]
}