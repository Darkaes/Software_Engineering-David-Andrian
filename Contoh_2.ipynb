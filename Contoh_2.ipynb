{
  "nbformat": 4,
  "nbformat_minor": 0,
  "metadata": {
    "colab": {
      "name": "Contoh 2.ipynb",
      "provenance": [],
      "authorship_tag": "ABX9TyO9J2uIMNlLpu0/5zCamUKO",
      "include_colab_link": true
    },
    "kernelspec": {
      "name": "python3",
      "display_name": "Python 3"
    },
    "language_info": {
      "name": "python"
    }
  },
  "cells": [
    {
      "cell_type": "markdown",
      "metadata": {
        "id": "view-in-github",
        "colab_type": "text"
      },
      "source": [
        "<a href=\"https://colab.research.google.com/github/Darkaes/Software_Engineering-David-Andrian/blob/main/Contoh_2.ipynb\" target=\"_parent\"><img src=\"https://colab.research.google.com/assets/colab-badge.svg\" alt=\"Open In Colab\"/></a>"
      ]
    },
    {
      "cell_type": "code",
      "metadata": {
        "id": "G0j-aoqhUEk_"
      },
      "source": [
        " #Dictionary\n",
        " #Tuple\n",
        " #If Else\n",
        " #Looping\n",
        " #Function"
      ],
      "execution_count": 4,
      "outputs": []
    },
    {
      "cell_type": "code",
      "metadata": {
        "colab": {
          "base_uri": "https://localhost:8080/"
        },
        "id": "gEMzn3MTVG8J",
        "outputId": "5644c88a-32fe-4285-bf6d-85df5d499645"
      },
      "source": [
        "# list\n",
        "contoh_list = [\"alvin\", 12, 12.0, [1,2,3], {}, (), True]\n",
        "print(contoh_list[0])\n",
        "# dictionary\n",
        "contoh_dict = {1:\"alvin\", \"hai\":12, False:12.0, 2:[1,2,3], 20.1:(), \"hoho\":True}\n",
        "print(contoh_dict[1])\n",
        "print(contoh_dict[False])\n",
        "print(contoh_dict[\"hoho\"])"
      ],
      "execution_count": 12,
      "outputs": [
        {
          "output_type": "stream",
          "name": "stdout",
          "text": [
            "alvin\n",
            "alvin\n",
            "12.0\n",
            "True\n"
          ]
        }
      ]
    },
    {
      "cell_type": "code",
      "metadata": {
        "id": "ABRFGUMBWaTN"
      },
      "source": [
        "contoh_list.append(\"David\")"
      ],
      "execution_count": 14,
      "outputs": []
    },
    {
      "cell_type": "code",
      "metadata": {
        "colab": {
          "base_uri": "https://localhost:8080/"
        },
        "id": "UuVIyJn2YYkT",
        "outputId": "b119dd91-5286-4d59-f8a8-d590f7d9be19"
      },
      "source": [
        "#conditional statement\n",
        "a = 13\n",
        "b = 2\n",
        "#operator\n",
        "print(a+b)# 15\n",
        "print(a-b)# 11\n",
        "print(a*b) # 26\n",
        "print(a/b) # float division = 6.5\n",
        "print(a//b) #interger division = 6\n",
        "print(a**b) # 169\n",
        "print(a%b) # 1\n",
        "\n",
        "\n",
        "#conditional Statement\n",
        "print(a<b) # False\n",
        "print(a>b) # True \n",
        "print(a<=b) # True\n",
        "print(a==b) # False \n",
        "print(a>=b) # False\n",
        "print(a!=b) # True\n",
        "print(True and True) # True\n",
        "print(True and False) # False\n",
        "print(True or True) #True\n",
        "Print(True or False) #False\n",
        "\n"
      ],
      "execution_count": 17,
      "outputs": [
        {
          "output_type": "stream",
          "name": "stdout",
          "text": [
            "15\n",
            "11\n",
            "26\n",
            "6.5\n",
            "6\n",
            "169\n",
            "1\n",
            "False\n",
            "False\n",
            "False\n",
            "False\n"
          ]
        }
      ]
    },
    {
      "cell_type": "code",
      "metadata": {
        "id": "mQSiVjDEaTmZ"
      },
      "source": [
        "if a<b:\n",
        "    print(\"a lebih kecil dari b\")\n",
        "elif a>b:\n",
        "    print(\"a lebih besar dari b\")\n",
        "else:\n",
        "    print(\"a sama dengan b\")\n",
        "\n",
        "\n",
        "print(\"ini diluar if\")\n",
        "\n",
        "a = 10\n",
        "b = 5\n",
        "c = 7\n",
        "\n",
        "if a < b:\n",
        "    print(\"a lebih kecil dari b\")\n",
        "elif c == b:\n",
        "    #Jangan dipakai\n",
        "\n"
      ],
      "execution_count": null,
      "outputs": []
    },
    {
      "cell_type": "code",
      "metadata": {
        "id": "RyxOJWbNb-Ky"
      },
      "source": [
        "a = 10\n",
        "b = 5\n",
        "c = 7\n",
        "\n",
        "if a>b and a>c:\n",
        "      print(\"a adalah nilai terbesar\")\n",
        "elif b>a and b>c :\n",
        "      print(\"b adalah nilai terbesar\")\n",
        "elif c>a and c>b:\n",
        "      print(\"c adalah nilai terbesar\")\n",
        "else:\n",
        "    print(\"semua nilai sama\")"
      ],
      "execution_count": 23,
      "outputs": []
    },
    {
      "cell_type": "code",
      "metadata": {
        "id": "6QIflwDTb_XI"
      },
      "source": [
        "#Looping\n",
        "a = 10\n",
        "b = 5\n",
        "\n",
        "while b<a:\n",
        "  print(\"b masih lebih kecil dari a\")\n",
        "  b +=1"
      ],
      "execution_count": null,
      "outputs": []
    },
    {
      "cell_type": "code",
      "metadata": {
        "id": "TO5N0u1vdOo5"
      },
      "source": [
        "#forever loop\n",
        "while True:\n",
        "    umur = int(input(\"masukan umur anda:\"))\n",
        "    if umur < 30:\n",
        "       break "
      ],
      "execution_count": null,
      "outputs": []
    },
    {
      "cell_type": "code",
      "metadata": {
        "id": "pGkkRRWMdqwN"
      },
      "source": [
        "for i in range(3,10):\n",
        "    print(i)"
      ],
      "execution_count": null,
      "outputs": []
    },
    {
      "cell_type": "code",
      "metadata": {
        "id": "ECy_VZFWfDXK"
      },
      "source": [
        "for i in range(3,22,2):\n",
        "    print(i)"
      ],
      "execution_count": null,
      "outputs": []
    },
    {
      "cell_type": "code",
      "metadata": {
        "colab": {
          "base_uri": "https://localhost:8080/",
          "height": 1000
        },
        "id": "vhAboYdvf7Do",
        "outputId": "2d5eb54f-12b0-4a13-b2c7-1a1c064961cb"
      },
      "source": [
        "#for else\n",
        "for i in range(2,200,2):\n",
        "    print(i)\n",
        "    if i == 18:\n",
        "       break\n",
        "else:\n",
        "    print(\"ini akan jalan selama tidak ada break\")"
      ],
      "execution_count": 41,
      "outputs": [
        {
          "output_type": "stream",
          "name": "stdout",
          "text": [
            "2\n",
            "4\n",
            "6\n",
            "8\n",
            "10\n",
            "12\n",
            "14\n",
            "16\n",
            "18\n",
            "20\n",
            "22\n",
            "24\n",
            "26\n",
            "28\n",
            "30\n",
            "32\n",
            "34\n",
            "36\n",
            "38\n",
            "40\n",
            "42\n",
            "44\n",
            "46\n",
            "48\n",
            "50\n",
            "52\n",
            "54\n",
            "56\n",
            "58\n",
            "60\n",
            "62\n",
            "64\n",
            "66\n",
            "68\n",
            "70\n",
            "72\n",
            "74\n",
            "76\n",
            "78\n",
            "80\n",
            "82\n",
            "84\n",
            "86\n",
            "88\n",
            "90\n",
            "92\n",
            "94\n",
            "96\n",
            "98\n",
            "100\n",
            "102\n",
            "104\n",
            "106\n",
            "108\n",
            "110\n",
            "112\n",
            "114\n",
            "116\n",
            "118\n",
            "120\n",
            "122\n",
            "124\n",
            "126\n",
            "128\n",
            "130\n",
            "132\n",
            "134\n",
            "136\n",
            "138\n",
            "140\n",
            "142\n",
            "144\n",
            "146\n",
            "148\n",
            "150\n",
            "152\n",
            "154\n",
            "156\n",
            "158\n",
            "160\n",
            "162\n",
            "164\n",
            "166\n",
            "168\n",
            "170\n",
            "172\n",
            "174\n",
            "176\n",
            "178\n",
            "180\n",
            "182\n",
            "184\n",
            "186\n",
            "188\n",
            "190\n",
            "192\n",
            "194\n",
            "196\n",
            "198\n"
          ]
        },
        {
          "output_type": "error",
          "ename": "TypeError",
          "evalue": "ignored",
          "traceback": [
            "\u001b[0;31m---------------------------------------------------------------------------\u001b[0m",
            "\u001b[0;31mTypeError\u001b[0m                                 Traceback (most recent call last)",
            "\u001b[0;32m<ipython-input-41-1cb8984e695b>\u001b[0m in \u001b[0;36m<module>\u001b[0;34m()\u001b[0m\n\u001b[1;32m      5\u001b[0m        \u001b[0;32mbreak\u001b[0m\u001b[0;34m\u001b[0m\u001b[0;34m\u001b[0m\u001b[0m\n\u001b[1;32m      6\u001b[0m \u001b[0;32melse\u001b[0m\u001b[0;34m:\u001b[0m\u001b[0;34m\u001b[0m\u001b[0;34m\u001b[0m\u001b[0m\n\u001b[0;32m----> 7\u001b[0;31m     \u001b[0mprint\u001b[0m\u001b[0;34m(\u001b[0m\u001b[0mc\u001b[0m\u001b[0;34m+\u001b[0m\u001b[0mstr\u001b[0m\u001b[0;34m(\u001b[0m\u001b[0;34m\"This is the biggest number palindrome if you nnn*mmm\"\u001b[0m\u001b[0;34m)\u001b[0m\u001b[0;34m)\u001b[0m\u001b[0;34m\u001b[0m\u001b[0;34m\u001b[0m\u001b[0m\n\u001b[0m",
            "\u001b[0;31mTypeError\u001b[0m: unsupported operand type(s) for +: 'int' and 'str'"
          ]
        }
      ]
    },
    {
      "cell_type": "code",
      "metadata": {
        "id": "cv-tzgM6hJQn"
      },
      "source": [
        "  "
      ],
      "execution_count": null,
      "outputs": []
    }
  ]
}