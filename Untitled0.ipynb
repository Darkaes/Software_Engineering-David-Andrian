{
  "nbformat": 4,
  "nbformat_minor": 0,
  "metadata": {
    "colab": {
      "name": "Untitled0.ipynb",
      "provenance": [],
      "authorship_tag": "ABX9TyN0RY8U4QxGXs3G4HaZt1fM",
      "include_colab_link": true
    },
    "kernelspec": {
      "name": "python3",
      "display_name": "Python 3"
    },
    "language_info": {
      "name": "python"
    }
  },
  "cells": [
    {
      "cell_type": "markdown",
      "metadata": {
        "id": "view-in-github",
        "colab_type": "text"
      },
      "source": [
        "<a href=\"https://colab.research.google.com/github/Darkaes/Software_Engineering-David-Andrian/blob/main/Untitled0.ipynb\" target=\"_parent\"><img src=\"https://colab.research.google.com/assets/colab-badge.svg\" alt=\"Open In Colab\"/></a>"
      ]
    },
    {
      "cell_type": "code",
      "metadata": {
        "colab": {
          "base_uri": "https://localhost:8080/"
        },
        "id": "87o0UG1Xb_mc",
        "outputId": "732e4df1-b48e-40c1-9660-054bba765e86"
      },
      "source": [
        "umur = 21, 33, 44\n",
        "print (\"umurnya  tinggal \"+ str(umur[1]) + \" tahun\")"
      ],
      "execution_count": null,
      "outputs": [
        {
          "output_type": "stream",
          "name": "stdout",
          "text": [
            "umurnya  tinggal 33 tahun\n"
          ]
        }
      ]
    },
    {
      "cell_type": "code",
      "metadata": {
        "colab": {
          "base_uri": "https://localhost:8080/"
        },
        "id": "b8voaEdkfnYt",
        "outputId": "30e53bba-caf1-4bed-d983-4b410e929e2e"
      },
      "source": [
        "Nama_Game = [\"CSGO\", \"PUBG\", \"AOV\", \"DOTA\"]\n",
        "Nama_Game[-1:]"
      ],
      "execution_count": null,
      "outputs": [
        {
          "output_type": "execute_result",
          "data": {
            "text/plain": [
              "['DOTA']"
            ]
          },
          "metadata": {},
          "execution_count": 1
        }
      ]
    },
    {
      "cell_type": "code",
      "metadata": {
        "id": "7W-e5N53kri-"
      },
      "source": [
        "Kota = [\"Jakarta\", true, 8]"
      ],
      "execution_count": null,
      "outputs": []
    },
    {
      "cell_type": "code",
      "metadata": {
        "colab": {
          "base_uri": "https://localhost:8080/"
        },
        "id": "-AZ8zYUjhvO3",
        "outputId": "1852bb3b-ce6d-496e-9538-ac731ab8b059"
      },
      "source": [
        "Nama = [\"David\", \"Benny\", \"John\"]\n",
        "Nama.append(True)\n",
        "print(Nama)"
      ],
      "execution_count": null,
      "outputs": [
        {
          "output_type": "stream",
          "name": "stdout",
          "text": [
            "['David', 'Benny', 'John', True]\n"
          ]
        }
      ]
    },
    {
      "cell_type": "code",
      "metadata": {
        "id": "YFFc18P1h4o1"
      },
      "source": [
        "Biodata_diri = \"Nama saya {}, umur {}, tinggal di {}, suka Game {}\""
      ],
      "execution_count": null,
      "outputs": []
    },
    {
      "cell_type": "code",
      "metadata": {
        "colab": {
          "base_uri": "https://localhost:8080/"
        },
        "id": "i_uebbHpii2G",
        "outputId": "4d29ffb5-857d-442d-fa95-ba8c3112f590"
      },
      "source": [
        "print(Biodata_diri.format(Nama[0], umur[2], Kota[0], Nama_Game[2]))"
      ],
      "execution_count": null,
      "outputs": [
        {
          "output_type": "stream",
          "name": "stdout",
          "text": [
            "Nama saya David, umur 44, tinggal di Jakarta, suka Game AOV\n"
          ]
        }
      ]
    }
  ]
}